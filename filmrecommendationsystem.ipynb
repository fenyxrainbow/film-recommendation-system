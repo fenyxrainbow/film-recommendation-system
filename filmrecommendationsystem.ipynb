{
  "nbformat": 4,
  "nbformat_minor": 0,
  "metadata": {
    "colab": {
      "provenance": [],
      "authorship_tag": "ABX9TyMV0W7FAnl2BvNkkqPe1xvE",
      "include_colab_link": true
    },
    "kernelspec": {
      "name": "python3",
      "display_name": "Python 3"
    },
    "language_info": {
      "name": "python"
    }
  },
  "cells": [
    {
      "cell_type": "markdown",
      "metadata": {
        "id": "view-in-github",
        "colab_type": "text"
      },
      "source": [
        "<a href=\"https://colab.research.google.com/github/fenyxrainbow/film-recommendation-system/blob/main/filmrecommendationsystem.ipynb\" target=\"_parent\"><img src=\"https://colab.research.google.com/assets/colab-badge.svg\" alt=\"Open In Colab\"/></a>"
      ]
    },
    {
      "cell_type": "code",
      "source": [
        "import pandas as pd\n",
        "import numpy as np\n",
        "from sklearn.metrics.pairwise import cosine_similarity\n",
        "from sklearn.feature_extraction.text import TfidfVectorizer\n",
        "from surprise import Dataset, Reader, SVD\n",
        "from surprise.model_selection import cross_validate\n",
        "from sklearn.neighbors import NearestNeighbors"
      ],
      "metadata": {
        "id": "rn3sEKCjyNYA"
      },
      "execution_count": 4,
      "outputs": []
    },
    {
      "cell_type": "code",
      "source": [
        "import pandas as pd\n",
        "import requests\n",
        "import zipfile\n",
        "import io\n",
        "\n",
        "# URL do dataset MovieLens\n",
        "url = \"https://files.grouplens.org/datasets/movielens/ml-latest-small.zip\"\n",
        "\n",
        "# Baixando o arquivo ZIP\n",
        "response = requests.get(url)\n",
        "if response.status_code == 200:  # Verifica se o download foi bem-sucedido\n",
        "    # Extraindo os arquivos do ZIP\n",
        "    with zipfile.ZipFile(io.BytesIO(response.content)) as zip_ref:\n",
        "        zip_ref.extractall(\"ml-latest-small\")  # Extrai para uma pasta chamada \"ml-latest-small\"\n",
        "\n",
        "    # Carregando os arquivos CSV\n",
        "    df_ratings = pd.read_csv(\"ml-latest-small/ml-latest-small/ratings.csv\")\n",
        "    df_movies = pd.read_csv(\"ml-latest-small/ml-latest-small/movies.csv\")\n",
        "\n",
        "    # Visualizando os dados\n",
        "    print(\"Primeiras linhas de ratings.csv:\")\n",
        "    print(df_ratings.head())\n",
        "\n",
        "    print(\"\\nPrimeiras linhas de movies.csv:\")\n",
        "    print(df_movies.head())\n",
        "else:\n",
        "    print(\"Erro ao baixar o arquivo. Verifique a URL ou sua conexão com a internet.\")"
      ],
      "metadata": {
        "colab": {
          "base_uri": "https://localhost:8080/"
        },
        "id": "5J7mPwJgyQuf",
        "outputId": "13d1ff2f-f7a9-412c-c554-30292e16e653"
      },
      "execution_count": 8,
      "outputs": [
        {
          "output_type": "stream",
          "name": "stdout",
          "text": [
            "Primeiras linhas de ratings.csv:\n",
            "   userId  movieId  rating  timestamp\n",
            "0       1        1     4.0  964982703\n",
            "1       1        3     4.0  964981247\n",
            "2       1        6     4.0  964982224\n",
            "3       1       47     5.0  964983815\n",
            "4       1       50     5.0  964982931\n",
            "\n",
            "Primeiras linhas de movies.csv:\n",
            "   movieId                               title  \\\n",
            "0        1                    Toy Story (1995)   \n",
            "1        2                      Jumanji (1995)   \n",
            "2        3             Grumpier Old Men (1995)   \n",
            "3        4            Waiting to Exhale (1995)   \n",
            "4        5  Father of the Bride Part II (1995)   \n",
            "\n",
            "                                        genres  \n",
            "0  Adventure|Animation|Children|Comedy|Fantasy  \n",
            "1                   Adventure|Children|Fantasy  \n",
            "2                               Comedy|Romance  \n",
            "3                         Comedy|Drama|Romance  \n",
            "4                                       Comedy  \n"
          ]
        }
      ]
    },
    {
      "source": [
        "import pandas as pd\n",
        "import numpy as np\n",
        "from sklearn.metrics.pairwise import cosine_similarity\n",
        "from sklearn.feature_extraction.text import TfidfVectorizer\n",
        "from surprise import Dataset, Reader, SVD\n",
        "from surprise.model_selection import cross_validate\n",
        "from sklearn.neighbors import NearestNeighbors\n",
        "import urllib.request\n",
        "import zipfile\n",
        "import os\n",
        "\n",
        "# Carregando o dataset MovieLens\n",
        "url = \"https://files.grouplens.org/datasets/movielens/ml-latest-small.zip\"\n",
        "zip_file_path = \"ml-latest-small.zip\" # Define the zip file path\n",
        "\n",
        "# Download the zip file\n",
        "if not os.path.exists(zip_file_path):\n",
        "    urllib.request.urlretrieve(url, zip_file_path)\n",
        "\n",
        "# Extract the csv files from the zip file\n",
        "with zipfile.ZipFile(zip_file_path, 'r') as zip_ref:\n",
        "    ratings_file = zip_ref.extract('ml-latest-small/ratings.csv')\n",
        "    movies_file = zip_ref.extract('ml-latest-small/movies.csv')\n",
        "\n",
        "# Read the CSVs\n",
        "df_ratings = pd.read_csv(ratings_file)\n",
        "df_movies = pd.read_csv(movies_file)\n",
        "\n",
        "\n",
        "# Visualizando os dados\n",
        "print(df_ratings.head())\n",
        "print(df_movies.head())"
      ],
      "cell_type": "code",
      "metadata": {
        "colab": {
          "base_uri": "https://localhost:8080/"
        },
        "id": "DkM8wunOzjUS",
        "outputId": "930d2afd-c21d-43c6-edfd-9fa90330bf64"
      },
      "execution_count": 6,
      "outputs": [
        {
          "output_type": "stream",
          "name": "stdout",
          "text": [
            "   userId  movieId  rating  timestamp\n",
            "0       1        1     4.0  964982703\n",
            "1       1        3     4.0  964981247\n",
            "2       1        6     4.0  964982224\n",
            "3       1       47     5.0  964983815\n",
            "4       1       50     5.0  964982931\n",
            "   movieId                               title  \\\n",
            "0        1                    Toy Story (1995)   \n",
            "1        2                      Jumanji (1995)   \n",
            "2        3             Grumpier Old Men (1995)   \n",
            "3        4            Waiting to Exhale (1995)   \n",
            "4        5  Father of the Bride Part II (1995)   \n",
            "\n",
            "                                        genres  \n",
            "0  Adventure|Animation|Children|Comedy|Fantasy  \n",
            "1                   Adventure|Children|Fantasy  \n",
            "2                               Comedy|Romance  \n",
            "3                         Comedy|Drama|Romance  \n",
            "4                                       Comedy  \n"
          ]
        }
      ]
    },
    {
      "cell_type": "code",
      "source": [
        "# Removendo usuários e filmes com poucas interações\n",
        "min_user_ratings = 50\n",
        "min_movie_ratings = 50\n",
        "\n",
        "filtered_users = df_ratings['userId'].value_counts() > min_user_ratings\n",
        "filtered_users = filtered_users[filtered_users].index.tolist()\n",
        "\n",
        "filtered_movies = df_ratings['movieId'].value_counts() > min_movie_ratings\n",
        "filtered_movies = filtered_movies[filtered_movies].index.tolist()\n",
        "\n",
        "df_ratings_filtered = df_ratings[(df_ratings['userId'].isin(filtered_users)) & (df_ratings['movieId'].isin(filtered_movies))]"
      ],
      "metadata": {
        "id": "PfzBXG5fyTLx"
      },
      "execution_count": 9,
      "outputs": []
    },
    {
      "cell_type": "code",
      "source": [
        "# Normalizando as notas para uma escala de 0 a 5\n",
        "df_ratings_filtered['rating'] = df_ratings_filtered['rating'] / 5.0"
      ],
      "metadata": {
        "colab": {
          "base_uri": "https://localhost:8080/"
        },
        "id": "NP8YN5Y4yV5-",
        "outputId": "245f36bf-c4f9-479f-b720-322da143853b"
      },
      "execution_count": 10,
      "outputs": [
        {
          "output_type": "stream",
          "name": "stderr",
          "text": [
            "<ipython-input-10-d445cf0dbb6a>:2: SettingWithCopyWarning: \n",
            "A value is trying to be set on a copy of a slice from a DataFrame.\n",
            "Try using .loc[row_indexer,col_indexer] = value instead\n",
            "\n",
            "See the caveats in the documentation: https://pandas.pydata.org/pandas-docs/stable/user_guide/indexing.html#returning-a-view-versus-a-copy\n",
            "  df_ratings_filtered['rating'] = df_ratings_filtered['rating'] / 5.0\n"
          ]
        }
      ]
    },
    {
      "cell_type": "code",
      "source": [
        "# Codificando gêneros dos filmes para Filtragem Baseada em Conteúdo\n",
        "df_movies['genres'] = df_movies['genres'].apply(lambda x: x.split('|'))\n",
        "df_movies['genres'] = df_movies['genres'].apply(lambda x: ' '.join(x))"
      ],
      "metadata": {
        "id": "5O82drkryXJt"
      },
      "execution_count": 11,
      "outputs": []
    },
    {
      "cell_type": "code",
      "source": [
        "# Criando uma matriz de usuários e filmes\n",
        "user_movie_matrix = df_ratings_filtered.pivot(index='userId', columns='movieId', values='rating').fillna(0)"
      ],
      "metadata": {
        "id": "I7jP89eJyaZh"
      },
      "execution_count": 12,
      "outputs": []
    },
    {
      "cell_type": "code",
      "source": [
        "# Calculando a similaridade de cosseno entre filmes\n",
        "tfidf = TfidfVectorizer(stop_words='english')\n",
        "tfidf_matrix = tfidf.fit_transform(df_movies['genres'])\n",
        "cosine_sim = cosine_similarity(tfidf_matrix, tfidf_matrix)\n",
        "\n",
        "# Mapeando índices de filmes\n",
        "indices = pd.Series(df_movies.index, index=df_movies['title']).drop_duplicates()"
      ],
      "metadata": {
        "id": "pYkDKWNcyY0d"
      },
      "execution_count": 13,
      "outputs": []
    },
    {
      "cell_type": "code",
      "source": [
        "def content_based_recommendation(title, cosine_sim=cosine_sim, df_movies=df_movies, indices=indices):\n",
        "    idx = indices[title]\n",
        "    sim_scores = list(enumerate(cosine_sim[idx]))\n",
        "    sim_scores = sorted(sim_scores, key=lambda x: x[1], reverse=True)\n",
        "    sim_scores = sim_scores[1:11]  # Top 10 recomendações\n",
        "    movie_indices = [i[0] for i in sim_scores]\n",
        "    return df_movies['title'].iloc[movie_indices]\n",
        "\n",
        "# Exemplo de recomendação\n",
        "print(content_based_recommendation('Toy Story (1995)'))"
      ],
      "metadata": {
        "colab": {
          "base_uri": "https://localhost:8080/"
        },
        "id": "7z_4F7czya5N",
        "outputId": "607078a0-f5d7-42c1-d5d5-9129e043649e"
      },
      "execution_count": 14,
      "outputs": [
        {
          "output_type": "stream",
          "name": "stdout",
          "text": [
            "1706                                          Antz (1998)\n",
            "2355                                   Toy Story 2 (1999)\n",
            "2809       Adventures of Rocky and Bullwinkle, The (2000)\n",
            "3000                     Emperor's New Groove, The (2000)\n",
            "3568                                Monsters, Inc. (2001)\n",
            "6194                                     Wild, The (2006)\n",
            "6486                               Shrek the Third (2007)\n",
            "6948                       Tale of Despereaux, The (2008)\n",
            "7760    Asterix and the Vikings (Astérix et les Viking...\n",
            "8219                                         Turbo (2013)\n",
            "Name: title, dtype: object\n"
          ]
        }
      ]
    },
    {
      "cell_type": "code",
      "source": [
        "# Preparando os dados para o Surprise\n",
        "reader = Reader(rating_scale=(0, 1))\n",
        "data = Dataset.load_from_df(df_ratings_filtered[['userId', 'movieId', 'rating']], reader)\n",
        "\n",
        "# Utilizando o algoritmo SVD\n",
        "algo = SVD()\n",
        "cross_validate(algo, data, measures=['RMSE', 'MAE'], cv=5, verbose=True)"
      ],
      "metadata": {
        "colab": {
          "base_uri": "https://localhost:8080/"
        },
        "id": "7fVtTnXgyfP6",
        "outputId": "abab0df4-8995-48c7-9292-ed5c2d356909"
      },
      "execution_count": 15,
      "outputs": [
        {
          "output_type": "stream",
          "name": "stdout",
          "text": [
            "Evaluating RMSE, MAE of algorithm SVD on 5 split(s).\n",
            "\n",
            "                  Fold 1  Fold 2  Fold 3  Fold 4  Fold 5  Mean    Std     \n",
            "RMSE (testset)    0.1773  0.1802  0.1777  0.1803  0.1779  0.1787  0.0013  \n",
            "MAE (testset)     0.1362  0.1378  0.1361  0.1376  0.1370  0.1370  0.0007  \n",
            "Fit time          1.04    1.34    2.26    1.39    0.92    1.39    0.47    \n",
            "Test time         0.09    0.17    0.17    0.10    0.11    0.13    0.03    \n"
          ]
        },
        {
          "output_type": "execute_result",
          "data": {
            "text/plain": [
              "{'test_rmse': array([0.17729484, 0.18023407, 0.17770903, 0.18034284, 0.17794889]),\n",
              " 'test_mae': array([0.13623677, 0.13783282, 0.13613305, 0.13760887, 0.13702984]),\n",
              " 'fit_time': (1.0449409484863281,\n",
              "  1.3391706943511963,\n",
              "  2.262488842010498,\n",
              "  1.3855838775634766,\n",
              "  0.9242634773254395),\n",
              " 'test_time': (0.0935525894165039,\n",
              "  0.1687767505645752,\n",
              "  0.16991209983825684,\n",
              "  0.09722638130187988,\n",
              "  0.10897016525268555)}"
            ]
          },
          "metadata": {},
          "execution_count": 15
        }
      ]
    },
    {
      "cell_type": "code",
      "source": [
        "def collaborative_filtering_recommendation(user_id, algo=algo, df_ratings=df_ratings_filtered, df_movies=df_movies):\n",
        "    user_movies = df_ratings[df_ratings['userId'] == user_id]['movieId'].unique()\n",
        "    all_movies = df_ratings['movieId'].unique()\n",
        "    movies_to_predict = np.setdiff1d(all_movies, user_movies)\n",
        "\n",
        "    predictions = [algo.predict(user_id, movie_id) for movie_id in movies_to_predict]\n",
        "    predictions.sort(key=lambda x: x.est, reverse=True)\n",
        "    top_movies = [pred.iid for pred in predictions[:10]]\n",
        "\n",
        "    return df_movies[df_movies['movieId'].isin(top_movies)]['title']\n",
        "\n",
        "# Exemplo de recomendação\n",
        "print(collaborative_filtering_recommendation(1))"
      ],
      "metadata": {
        "colab": {
          "base_uri": "https://localhost:8080/"
        },
        "id": "RGnnL5dayhlA",
        "outputId": "a98b2e36-40b6-45b3-b74a-2e9a17780c7d"
      },
      "execution_count": 16,
      "outputs": [
        {
          "output_type": "stream",
          "name": "stdout",
          "text": [
            "138             Die Hard: With a Vengeance (1995)\n",
            "277              Shawshank Redemption, The (1994)\n",
            "685                                Vertigo (1958)\n",
            "690                     North by Northwest (1959)\n",
            "819                   Fish Called Wanda, A (1988)\n",
            "896        One Flew Over the Cuckoo's Nest (1975)\n",
            "922                Godfather: Part II, The (1974)\n",
            "1002    Butch Cassidy and the Sundance Kid (1969)\n",
            "1645                     Untouchables, The (1987)\n",
            "2036                        Eyes Wide Shut (1999)\n",
            "Name: title, dtype: object\n"
          ]
        }
      ]
    },
    {
      "cell_type": "code",
      "source": [
        "# Avaliação do modelo SVD\n",
        "results = cross_validate(algo, data, measures=['RMSE', 'MAE'], cv=5, verbose=True)\n",
        "print(results)"
      ],
      "metadata": {
        "colab": {
          "base_uri": "https://localhost:8080/"
        },
        "id": "zIHL89gvyjl2",
        "outputId": "2495ac5a-a22d-46a2-b368-fdab8c606268"
      },
      "execution_count": 17,
      "outputs": [
        {
          "output_type": "stream",
          "name": "stdout",
          "text": [
            "Evaluating RMSE, MAE of algorithm SVD on 5 split(s).\n",
            "\n",
            "                  Fold 1  Fold 2  Fold 3  Fold 4  Fold 5  Mean    Std     \n",
            "RMSE (testset)    0.1783  0.1791  0.1773  0.1792  0.1790  0.1786  0.0007  \n",
            "MAE (testset)     0.1360  0.1377  0.1365  0.1381  0.1376  0.1372  0.0008  \n",
            "Fit time          0.43    0.41    0.42    0.41    0.41    0.42    0.01    \n",
            "Test time         0.17    0.03    0.03    0.03    0.04    0.06    0.05    \n",
            "{'test_rmse': array([0.17825042, 0.17909272, 0.17733162, 0.17917474, 0.17900869]), 'test_mae': array([0.1360368 , 0.13769367, 0.13649106, 0.13813975, 0.1375519 ]), 'fit_time': (0.4296126365661621, 0.414090633392334, 0.4249577522277832, 0.41079068183898926, 0.4057657718658447), 'test_time': (0.16728878021240234, 0.03129887580871582, 0.03198719024658203, 0.03174901008605957, 0.037305593490600586)}\n"
          ]
        }
      ]
    },
    {
      "cell_type": "code",
      "source": [
        "import streamlit as st\n",
        "\n",
        "st.title('Sistema de Recomendação de Filmes')\n",
        "\n",
        "user_id = st.number_input('Digite o ID do usuário:', min_value=1, max_value=610, value=1)\n",
        "if st.button('Recomendar'):\n",
        "    recommendations = collaborative_filtering_recommendation(user_id)\n",
        "    st.write('Recomendações:')\n",
        "    st.write(recommendations)"
      ],
      "metadata": {
        "colab": {
          "base_uri": "https://localhost:8080/"
        },
        "id": "GNP-18wBylHv",
        "outputId": "30f33cc8-3fa6-4211-9c69-95f3f1bb58fe"
      },
      "execution_count": 18,
      "outputs": [
        {
          "output_type": "stream",
          "name": "stderr",
          "text": [
            "2025-02-22 22:44:22.907 WARNING streamlit.runtime.scriptrunner_utils.script_run_context: Thread 'MainThread': missing ScriptRunContext! This warning can be ignored when running in bare mode.\n",
            "2025-02-22 22:44:23.012 \n",
            "  \u001b[33m\u001b[1mWarning:\u001b[0m to view this Streamlit app on a browser, run it with the following\n",
            "  command:\n",
            "\n",
            "    streamlit run /usr/local/lib/python3.11/dist-packages/colab_kernel_launcher.py [ARGUMENTS]\n",
            "2025-02-22 22:44:23.014 Thread 'MainThread': missing ScriptRunContext! This warning can be ignored when running in bare mode.\n",
            "2025-02-22 22:44:23.016 Thread 'MainThread': missing ScriptRunContext! This warning can be ignored when running in bare mode.\n",
            "2025-02-22 22:44:23.016 Thread 'MainThread': missing ScriptRunContext! This warning can be ignored when running in bare mode.\n",
            "2025-02-22 22:44:23.018 Thread 'MainThread': missing ScriptRunContext! This warning can be ignored when running in bare mode.\n",
            "2025-02-22 22:44:23.019 Thread 'MainThread': missing ScriptRunContext! This warning can be ignored when running in bare mode.\n",
            "2025-02-22 22:44:23.021 Session state does not function when running a script without `streamlit run`\n",
            "2025-02-22 22:44:23.022 Thread 'MainThread': missing ScriptRunContext! This warning can be ignored when running in bare mode.\n",
            "2025-02-22 22:44:23.024 Thread 'MainThread': missing ScriptRunContext! This warning can be ignored when running in bare mode.\n",
            "2025-02-22 22:44:23.025 Thread 'MainThread': missing ScriptRunContext! This warning can be ignored when running in bare mode.\n",
            "2025-02-22 22:44:23.026 Thread 'MainThread': missing ScriptRunContext! This warning can be ignored when running in bare mode.\n",
            "2025-02-22 22:44:23.026 Thread 'MainThread': missing ScriptRunContext! This warning can be ignored when running in bare mode.\n",
            "2025-02-22 22:44:23.027 Thread 'MainThread': missing ScriptRunContext! This warning can be ignored when running in bare mode.\n",
            "2025-02-22 22:44:23.028 Thread 'MainThread': missing ScriptRunContext! This warning can be ignored when running in bare mode.\n"
          ]
        }
      ]
    },
    {
      "cell_type": "code",
      "source": [
        "import streamlit as st\n",
        "import pandas as pd\n",
        "import numpy as np\n",
        "from surprise import SVD, Dataset, Reader\n",
        "import requests\n",
        "import zipfile\n",
        "import io\n",
        "\n",
        "# URL do dataset MovieLens\n",
        "url = \"https://files.grouplens.org/datasets/movielens/ml-latest-small.zip\"\n",
        "\n",
        "# Baixando o arquivo ZIP\n",
        "response = requests.get(url)\n",
        "if response.status_code == 200:  # Verifica se o download foi bem-sucedido\n",
        "    # Extraindo os arquivos do ZIP\n",
        "    with zipfile.ZipFile(io.BytesIO(response.content)) as zip_ref:\n",
        "        zip_ref.extractall(\"ml-latest-small\")  # Extrai para uma pasta chamada \"ml-latest-small\"\n",
        "\n",
        "    # Carregando os arquivos CSV\n",
        "    df_ratings = pd.read_csv(\"ml-latest-small/ml-latest-small/ratings.csv\")\n",
        "    df_movies = pd.read_csv(\"ml-latest-small/ml-latest-small/movies.csv\")\n",
        "\n",
        "    # Configurar o modelo SVD\n",
        "    reader = Reader(rating_scale=(0, 5))\n",
        "    data = Dataset.load_from_df(df_ratings[['userId', 'movieId', 'rating']], reader)\n",
        "    algo = SVD()\n",
        "    trainset = data.build_full_trainset()\n",
        "    algo.fit(trainset)\n",
        "\n",
        "    # Interface do Streamlit\n",
        "    st.title('Sistema de Recomendação de Filmes')\n",
        "\n",
        "    user_id = st.number_input('Digite o ID do usuário:', min_value=1, max_value=610, value=1)\n",
        "    if st.button('Recomendar'):\n",
        "        user_movies = df_ratings[df_ratings['userId'] == user_id]['movieId'].unique()\n",
        "        all_movies = df_ratings['movieId'].unique()\n",
        "        movies_to_predict = np.setdiff1d(all_movies, user_movies)\n",
        "\n",
        "        predictions = [algo.predict(user_id, movie_id) for movie_id in movies_to_predict]\n",
        "        predictions.sort(key=lambda x: x.est, reverse=True)\n",
        "        top_movies = [pred.iid for pred in predictions[:10]]\n",
        "\n",
        "        st.write('Recomendações:')\n",
        "        st.write(df_movies[df_movies['movieId'].isin(top_movies)]['title'])\n",
        "else:\n",
        "    st.error(\"Erro ao baixar o arquivo. Verifique a URL ou sua conexão com a internet.\")"
      ],
      "metadata": {
        "colab": {
          "base_uri": "https://localhost:8080/"
        },
        "id": "6upu3nYT2f1B",
        "outputId": "d088ee5a-6742-4962-941f-047d2031d26e"
      },
      "execution_count": 22,
      "outputs": [
        {
          "output_type": "stream",
          "name": "stderr",
          "text": [
            "2025-02-22 22:52:09.734 Thread 'MainThread': missing ScriptRunContext! This warning can be ignored when running in bare mode.\n",
            "2025-02-22 22:52:09.735 Thread 'MainThread': missing ScriptRunContext! This warning can be ignored when running in bare mode.\n",
            "2025-02-22 22:52:09.736 Thread 'MainThread': missing ScriptRunContext! This warning can be ignored when running in bare mode.\n",
            "2025-02-22 22:52:09.737 Thread 'MainThread': missing ScriptRunContext! This warning can be ignored when running in bare mode.\n",
            "2025-02-22 22:52:09.737 Thread 'MainThread': missing ScriptRunContext! This warning can be ignored when running in bare mode.\n",
            "2025-02-22 22:52:09.738 Thread 'MainThread': missing ScriptRunContext! This warning can be ignored when running in bare mode.\n",
            "2025-02-22 22:52:09.739 Thread 'MainThread': missing ScriptRunContext! This warning can be ignored when running in bare mode.\n",
            "2025-02-22 22:52:09.740 Thread 'MainThread': missing ScriptRunContext! This warning can be ignored when running in bare mode.\n",
            "2025-02-22 22:52:09.741 Thread 'MainThread': missing ScriptRunContext! This warning can be ignored when running in bare mode.\n",
            "2025-02-22 22:52:09.742 Thread 'MainThread': missing ScriptRunContext! This warning can be ignored when running in bare mode.\n",
            "2025-02-22 22:52:09.743 Thread 'MainThread': missing ScriptRunContext! This warning can be ignored when running in bare mode.\n",
            "2025-02-22 22:52:09.744 Thread 'MainThread': missing ScriptRunContext! This warning can be ignored when running in bare mode.\n",
            "2025-02-22 22:52:09.745 Thread 'MainThread': missing ScriptRunContext! This warning can be ignored when running in bare mode.\n"
          ]
        }
      ]
    },
    {
      "cell_type": "code",
      "source": [
        "!pip install scikit-surprise"
      ],
      "metadata": {
        "colab": {
          "base_uri": "https://localhost:8080/"
        },
        "id": "iVxyqGKt8s7h",
        "outputId": "f067cfb5-2bdf-4d14-c85d-cd66588e377e"
      },
      "execution_count": 24,
      "outputs": [
        {
          "output_type": "stream",
          "name": "stdout",
          "text": [
            "Requirement already satisfied: scikit-surprise in /usr/local/lib/python3.11/dist-packages (1.1.4)\n",
            "Requirement already satisfied: joblib>=1.2.0 in /usr/local/lib/python3.11/dist-packages (from scikit-surprise) (1.4.2)\n",
            "Requirement already satisfied: numpy>=1.19.5 in /usr/local/lib/python3.11/dist-packages (from scikit-surprise) (1.26.4)\n",
            "Requirement already satisfied: scipy>=1.6.0 in /usr/local/lib/python3.11/dist-packages (from scikit-surprise) (1.13.1)\n"
          ]
        }
      ]
    },
    {
      "cell_type": "code",
      "source": [
        "from surprise import SVD, Dataset, Reader  # A importação é a mesma"
      ],
      "metadata": {
        "id": "zOUt1ujV9qo0"
      },
      "execution_count": 25,
      "outputs": []
    },
    {
      "cell_type": "code",
      "source": [
        "from surprise import SVD, Dataset, Reader\n",
        "print(\"Surprise instalado com sucesso!\")"
      ],
      "metadata": {
        "colab": {
          "base_uri": "https://localhost:8080/"
        },
        "id": "ZXHSF2zJ9vkA",
        "outputId": "672e3c5f-6983-43c0-bca7-a8a6df8bf7a0"
      },
      "execution_count": 26,
      "outputs": [
        {
          "output_type": "stream",
          "name": "stdout",
          "text": [
            "Surprise instalado com sucesso!\n"
          ]
        }
      ]
    },
    {
      "cell_type": "code",
      "source": [
        "import streamlit as st\n",
        "import pandas as pd\n",
        "import numpy as np\n",
        "from surprise import SVD, Dataset, Reader\n",
        "import requests\n",
        "import zipfile\n",
        "import io\n",
        "\n",
        "# URL do dataset MovieLens\n",
        "url = \"https://files.grouplens.org/datasets/movielens/ml-latest-small.zip\"\n",
        "\n",
        "# Baixando o arquivo ZIP\n",
        "response = requests.get(url)\n",
        "if response.status_code == 200:  # Verifica se o download foi bem-sucedido\n",
        "    # Extraindo os arquivos do ZIP\n",
        "    with zipfile.ZipFile(io.BytesIO(response.content)) as zip_ref:\n",
        "        zip_ref.extractall(\"ml-latest-small\")  # Extrai para uma pasta chamada \"ml-latest-small\"\n",
        "\n",
        "    # Carregando os arquivos CSV\n",
        "    df_ratings = pd.read_csv(\"ml-latest-small/ml-latest-small/ratings.csv\")\n",
        "    df_movies = pd.read_csv(\"ml-latest-small/ml-latest-small/movies.csv\")\n",
        "\n",
        "    # Configurar o modelo SVD\n",
        "    reader = Reader(rating_scale=(0, 5))\n",
        "    data = Dataset.load_from_df(df_ratings[['userId', 'movieId', 'rating']], reader)\n",
        "    algo = SVD()\n",
        "    trainset = data.build_full_trainset()\n",
        "    algo.fit(trainset)\n",
        "\n",
        "    # Interface do Streamlit\n",
        "    st.title('Sistema de Recomendação de Filmes')\n",
        "\n",
        "    user_id = st.number_input('Digite o ID do usuário:', min_value=1, max_value=610, value=1)\n",
        "    if st.button('Recomendar'):\n",
        "        user_movies = df_ratings[df_ratings['userId'] == user_id]['movieId'].unique()\n",
        "        all_movies = df_ratings['movieId'].unique()\n",
        "        movies_to_predict = np.setdiff1d(all_movies, user_movies)\n",
        "\n",
        "        predictions = [algo.predict(user_id, movie_id) for movie_id in movies_to_predict]\n",
        "        predictions.sort(key=lambda x: x.est, reverse=True)\n",
        "        top_movies = [pred.iid for pred in predictions[:10]]\n",
        "\n",
        "        st.write('Recomendações:')\n",
        "        st.write(df_movies[df_movies['movieId'].isin(top_movies)]['title'])\n",
        "else:\n",
        "    st.error(\"Erro ao baixar o arquivo. Verifique a URL ou sua conexão com a internet.\")"
      ],
      "metadata": {
        "colab": {
          "base_uri": "https://localhost:8080/"
        },
        "id": "j6-uBP319yw7",
        "outputId": "0b9f8b46-dc25-47aa-da70-664feda93afc"
      },
      "execution_count": 27,
      "outputs": [
        {
          "output_type": "stream",
          "name": "stderr",
          "text": [
            "2025-02-22 23:21:31.171 Thread 'MainThread': missing ScriptRunContext! This warning can be ignored when running in bare mode.\n",
            "2025-02-22 23:21:31.172 Thread 'MainThread': missing ScriptRunContext! This warning can be ignored when running in bare mode.\n",
            "2025-02-22 23:21:31.173 Thread 'MainThread': missing ScriptRunContext! This warning can be ignored when running in bare mode.\n",
            "2025-02-22 23:21:31.174 Thread 'MainThread': missing ScriptRunContext! This warning can be ignored when running in bare mode.\n",
            "2025-02-22 23:21:31.176 Thread 'MainThread': missing ScriptRunContext! This warning can be ignored when running in bare mode.\n",
            "2025-02-22 23:21:31.177 Thread 'MainThread': missing ScriptRunContext! This warning can be ignored when running in bare mode.\n",
            "2025-02-22 23:21:31.179 Thread 'MainThread': missing ScriptRunContext! This warning can be ignored when running in bare mode.\n",
            "2025-02-22 23:21:31.181 Thread 'MainThread': missing ScriptRunContext! This warning can be ignored when running in bare mode.\n",
            "2025-02-22 23:21:31.182 Thread 'MainThread': missing ScriptRunContext! This warning can be ignored when running in bare mode.\n",
            "2025-02-22 23:21:31.183 Thread 'MainThread': missing ScriptRunContext! This warning can be ignored when running in bare mode.\n",
            "2025-02-22 23:21:31.185 Thread 'MainThread': missing ScriptRunContext! This warning can be ignored when running in bare mode.\n",
            "2025-02-22 23:21:31.186 Thread 'MainThread': missing ScriptRunContext! This warning can be ignored when running in bare mode.\n",
            "2025-02-22 23:21:31.187 Thread 'MainThread': missing ScriptRunContext! This warning can be ignored when running in bare mode.\n"
          ]
        }
      ]
    },
    {
      "cell_type": "code",
      "source": [
        "!pip install pyngrok"
      ],
      "metadata": {
        "colab": {
          "base_uri": "https://localhost:8080/"
        },
        "id": "Wy8EOKAg94W_",
        "outputId": "4b56c6a2-4bd5-4c49-c409-eac62276ad91"
      },
      "execution_count": 28,
      "outputs": [
        {
          "output_type": "stream",
          "name": "stdout",
          "text": [
            "Collecting pyngrok\n",
            "  Downloading pyngrok-7.2.3-py3-none-any.whl.metadata (8.7 kB)\n",
            "Requirement already satisfied: PyYAML>=5.1 in /usr/local/lib/python3.11/dist-packages (from pyngrok) (6.0.2)\n",
            "Downloading pyngrok-7.2.3-py3-none-any.whl (23 kB)\n",
            "Installing collected packages: pyngrok\n",
            "Successfully installed pyngrok-7.2.3\n"
          ]
        }
      ]
    },
    {
      "cell_type": "code",
      "source": [
        "from pyngrok import ngrok\n",
        "\n",
        "# Expor a interface do Streamlit na web\n",
        "public_url = ngrok.connect(8501)\n",
        "print(f\"Acesse a interface do Streamlit em: {public_url}\")"
      ],
      "metadata": {
        "colab": {
          "base_uri": "https://localhost:8080/"
        },
        "id": "ftevBhYn97-e",
        "outputId": "c172dce0-9866-4e9a-db36-5f6b019b1457"
      },
      "execution_count": 39,
      "outputs": [
        {
          "output_type": "stream",
          "name": "stdout",
          "text": [
            "Acesse a interface do Streamlit em: NgrokTunnel: \"https://9f94-35-227-37-121.ngrok-free.app\" -> \"http://localhost:8501\"\n"
          ]
        }
      ]
    },
    {
      "cell_type": "code",
      "source": [
        "from pyngrok import ngrok\n",
        "\n",
        "# Kill any existing ngrok tunnels\n",
        "ngrok.kill()\n",
        "\n",
        "# Configurar o authtoken do ngrok\n",
        "ngrok.set_auth_token(\"2tPyeXB7EPLrzfJ5AiqmGv7jRBu_3V1v9q4cfN93jpYxp4g8V\")  # Substitua pelo seu authtoken\n",
        "\n",
        "# Expor a interface do Streamlit na web\n",
        "public_url = ngrok.connect(8501)\n",
        "print(f\"Acesse a interface do Streamlit em: {public_url}\")\n",
        "\n",
        "# Rodar o Streamlit\n",
        "!streamlit run --server.port 8501 app.py"
      ],
      "metadata": {
        "colab": {
          "base_uri": "https://localhost:8080/"
        },
        "id": "P5StsfF_EYXr",
        "outputId": "ace23081-4199-4546-d269-086c32642762"
      },
      "execution_count": 43,
      "outputs": [
        {
          "output_type": "stream",
          "name": "stdout",
          "text": [
            "Acesse a interface do Streamlit em: NgrokTunnel: \"https://e055-35-227-37-121.ngrok-free.app\" -> \"http://localhost:8501\"\n",
            "Usage: streamlit run [OPTIONS] TARGET [ARGS]...\n",
            "Try 'streamlit run --help' for help.\n",
            "\n",
            "Error: Invalid value: File does not exist: app.py\n"
          ]
        }
      ]
    },
    {
      "cell_type": "code",
      "source": [
        "import streamlit as st\n",
        "import pandas as pd\n",
        "import numpy as np\n",
        "from surprise import SVD, Dataset, Reader\n",
        "import requests\n",
        "import zipfile\n",
        "import io\n",
        "from pyngrok import ngrok\n",
        "\n",
        "# URL do dataset MovieLens\n",
        "url = \"https://files.grouplens.org/datasets/movielens/ml-latest-small.zip\"\n",
        "\n",
        "# Baixando o arquivo ZIP\n",
        "response = requests.get(url)\n",
        "if response.status_code == 200:  # Verifica se o download foi bem-sucedido\n",
        "    # Extraindo os arquivos do ZIP\n",
        "    with zipfile.ZipFile(io.BytesIO(response.content)) as zip_ref:\n",
        "        zip_ref.extractall(\"ml-latest-small\")  # Extrai para uma pasta chamada \"ml-latest-small\"\n",
        "\n",
        "    # Carregando os arquivos CSV\n",
        "    df_ratings = pd.read_csv(\"ml-latest-small/ml-latest-small/ratings.csv\")\n",
        "    df_movies = pd.read_csv(\"ml-latest-small/ml-latest-small/movies.csv\")\n",
        "\n",
        "    # Configurar o modelo SVD\n",
        "    reader = Reader(rating_scale=(0, 5))\n",
        "    data = Dataset.load_from_df(df_ratings[['userId', 'movieId', 'rating']], reader)\n",
        "    algo = SVD()\n",
        "    trainset = data.build_full_trainset()\n",
        "    algo.fit(trainset)\n",
        "\n",
        "    # Interface do Streamlit\n",
        "    st.title('Sistema de Recomendação de Filmes')\n",
        "\n",
        "    user_id = st.number_input('Digite o ID do usuário:', min_value=1, max_value=610, value=1)\n",
        "    if st.button('Recomendar'):\n",
        "        user_movies = df_ratings[df_ratings['userId'] == user_id]['movieId'].unique()\n",
        "        all_movies = df_ratings['movieId'].unique()\n",
        "        movies_to_predict = np.setdiff1d(all_movies, user_movies)\n",
        "\n",
        "        predictions = [algo.predict(user_id, movie_id) for movie_id in movies_to_predict]\n",
        "        predictions.sort(key=lambda x: x.est, reverse=True)\n",
        "        top_movies = [pred.iid for pred in predictions[:10]]\n",
        "\n",
        "        st.write('Recomendações:')\n",
        "        st.write(df_movies[df_movies['movieId'].isin(top_movies)]['title'])\n",
        "else:\n",
        "    st.error(\"Erro ao baixar o arquivo. Verifique a URL ou sua conexão com a internet.\")"
      ],
      "metadata": {
        "colab": {
          "base_uri": "https://localhost:8080/"
        },
        "id": "8nbrmO0-GQQI",
        "outputId": "8d3eb54e-3f1c-45df-f1d6-76bc601c0187"
      },
      "execution_count": 44,
      "outputs": [
        {
          "output_type": "stream",
          "name": "stderr",
          "text": [
            "2025-02-23 00:03:36.123 Thread 'MainThread': missing ScriptRunContext! This warning can be ignored when running in bare mode.\n",
            "2025-02-23 00:03:36.124 Thread 'MainThread': missing ScriptRunContext! This warning can be ignored when running in bare mode.\n",
            "2025-02-23 00:03:36.125 Thread 'MainThread': missing ScriptRunContext! This warning can be ignored when running in bare mode.\n",
            "2025-02-23 00:03:36.126 Thread 'MainThread': missing ScriptRunContext! This warning can be ignored when running in bare mode.\n",
            "2025-02-23 00:03:36.127 Thread 'MainThread': missing ScriptRunContext! This warning can be ignored when running in bare mode.\n",
            "2025-02-23 00:03:36.128 Thread 'MainThread': missing ScriptRunContext! This warning can be ignored when running in bare mode.\n",
            "2025-02-23 00:03:36.129 Thread 'MainThread': missing ScriptRunContext! This warning can be ignored when running in bare mode.\n",
            "2025-02-23 00:03:36.130 Thread 'MainThread': missing ScriptRunContext! This warning can be ignored when running in bare mode.\n",
            "2025-02-23 00:03:36.131 Thread 'MainThread': missing ScriptRunContext! This warning can be ignored when running in bare mode.\n",
            "2025-02-23 00:03:36.133 Thread 'MainThread': missing ScriptRunContext! This warning can be ignored when running in bare mode.\n",
            "2025-02-23 00:03:36.133 Thread 'MainThread': missing ScriptRunContext! This warning can be ignored when running in bare mode.\n",
            "2025-02-23 00:03:36.134 Thread 'MainThread': missing ScriptRunContext! This warning can be ignored when running in bare mode.\n",
            "2025-02-23 00:03:36.135 Thread 'MainThread': missing ScriptRunContext! This warning can be ignored when running in bare mode.\n"
          ]
        }
      ]
    },
    {
      "cell_type": "code",
      "source": [
        "%%writefile app.py\n",
        "import streamlit as st\n",
        "import pandas as pd\n",
        "import numpy as np\n",
        "from surprise import SVD, Dataset, Reader\n",
        "import requests\n",
        "import zipfile\n",
        "import io\n",
        "\n",
        "# URL do dataset MovieLens\n",
        "url = \"https://files.grouplens.org/datasets/movielens/ml-latest-small.zip\"\n",
        "\n",
        "# Baixando o arquivo ZIP\n",
        "response = requests.get(url)\n",
        "if response.status_code == 200:  # Verifica se o download foi bem-sucedido\n",
        "    # Extraindo os arquivos do ZIP\n",
        "    with zipfile.ZipFile(io.BytesIO(response.content)) as zip_ref:\n",
        "        zip_ref.extractall(\"ml-latest-small\")  # Extrai para uma pasta chamada \"ml-latest-small\"\n",
        "\n",
        "    # Carregando os arquivos CSV\n",
        "    df_ratings = pd.read_csv(\"ml-latest-small/ml-latest-small/ratings.csv\")\n",
        "    df_movies = pd.read_csv(\"ml-latest-small/ml-latest-small/movies.csv\")\n",
        "\n",
        "    # Configurar o modelo SVD\n",
        "    reader = Reader(rating_scale=(0, 5))\n",
        "    data = Dataset.load_from_df(df_ratings[['userId', 'movieId', 'rating']], reader)\n",
        "    algo = SVD()\n",
        "    trainset = data.build_full_trainset()\n",
        "    algo.fit(trainset)\n",
        "\n",
        "    # Interface do Streamlit\n",
        "    st.title('Sistema de Recomendação de Filmes')\n",
        "\n",
        "    user_id = st.number_input('Digite o ID do usuário:', min_value=1, max_value=610, value=1)\n",
        "    if st.button('Recomendar'):\n",
        "        user_movies = df_ratings[df_ratings['userId'] == user_id]['movieId'].unique()\n",
        "        all_movies = df_ratings['movieId'].unique()\n",
        "        movies_to_predict = np.setdiff1d(all_movies, user_movies)\n",
        "\n",
        "        predictions = [algo.predict(user_id, movie_id) for movie_id in movies_to_predict]\n",
        "        predictions.sort(key=lambda x: x.est, reverse=True)\n",
        "        top_movies = [pred.iid for pred in predictions[:10]]\n",
        "\n",
        "        st.write('Recomendações:')\n",
        "        st.write(df_movies[df_movies['movieId'].isin(top_movies)]['title'])\n",
        "else:\n",
        "    st.error(\"Erro ao baixar o arquivo. Verifique a URL ou sua conexão com a internet.\")"
      ],
      "metadata": {
        "colab": {
          "base_uri": "https://localhost:8080/"
        },
        "id": "Arb_JT-9HhuR",
        "outputId": "fac14908-30a1-4e20-d7c8-363a2227aee0"
      },
      "execution_count": 45,
      "outputs": [
        {
          "output_type": "stream",
          "name": "stdout",
          "text": [
            "Writing app.py\n"
          ]
        }
      ]
    },
    {
      "cell_type": "code",
      "source": [
        "from pyngrok import ngrok\n",
        "\n",
        "# Configurar o authtoken do ngrok\n",
        "ngrok.set_auth_token(\"2tPyeXB7EPLrzfJ5AiqmGv7jRBu_3V1v9q4cfN93jpYxp4g8V\")  # Substitua pelo seu authtoken\n",
        "\n",
        "# Expor a interface do Streamlit na web\n",
        "public_url = ngrok.connect(8501)\n",
        "print(f\"Acesse a interface do Streamlit em: {public_url}\")\n",
        "\n",
        "# Rodar o Streamlit\n",
        "!streamlit run --server.port 8501 app.py"
      ],
      "metadata": {
        "colab": {
          "base_uri": "https://localhost:8080/"
        },
        "id": "dvjSFFjaHk96",
        "outputId": "c0f92ad4-5368-4147-e05a-0c738a1b31b6"
      },
      "execution_count": 46,
      "outputs": [
        {
          "output_type": "stream",
          "name": "stdout",
          "text": [
            "Acesse a interface do Streamlit em: NgrokTunnel: \"https://a6ab-35-227-37-121.ngrok-free.app\" -> \"http://localhost:8501\"\n",
            "\n",
            "Collecting usage statistics. To deactivate, set browser.gatherUsageStats to false.\n",
            "\u001b[0m\n",
            "\u001b[0m\n",
            "\u001b[34m\u001b[1m  You can now view your Streamlit app in your browser.\u001b[0m\n",
            "\u001b[0m\n",
            "\u001b[34m  Local URL: \u001b[0m\u001b[1mhttp://localhost:8501\u001b[0m\n",
            "\u001b[34m  Network URL: \u001b[0m\u001b[1mhttp://172.28.0.12:8501\u001b[0m\n",
            "\u001b[34m  External URL: \u001b[0m\u001b[1mhttp://35.227.37.121:8501\u001b[0m\n",
            "\u001b[0m\n",
            "\u001b[34m  Stopping...\u001b[0m\n",
            "\u001b[34m  Stopping...\u001b[0m\n"
          ]
        }
      ]
    }
  ]
}